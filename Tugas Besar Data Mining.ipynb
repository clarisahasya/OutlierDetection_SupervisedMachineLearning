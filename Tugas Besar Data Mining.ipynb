{
  "nbformat": 4,
  "nbformat_minor": 0,
  "metadata": {
    "colab": {
      "name": "TuBes DaMin.ipynb",
      "provenance": [],
      "collapsed_sections": []
    },
    "kernelspec": {
      "name": "python3",
      "display_name": "Python 3"
    }
  },
  "cells": [
    {
      "cell_type": "code",
      "metadata": {
        "id": "IvUjLmYmSN6j",
        "colab_type": "code",
        "colab": {
          "base_uri": "https://localhost:8080/",
          "height": 72
        },
        "outputId": "3ca7b7f3-6a3d-4247-c2e8-5defb2b1a0b6"
      },
      "source": [
        "import numpy as np\n",
        "import pandas as pd\n",
        "import seaborn as sns\n",
        "import matplotlib.pyplot as plt\n",
        "from sklearn.naive_bayes import GaussianNB\n",
        "from sklearn.neighbors import KNeighborsClassifier\n",
        "from sklearn.model_selection import train_test_split as tr\n",
        "from sklearn.metrics import f1_score as f1\n",
        "from sklearn.metrics import accuracy_score as acc\n",
        "from sklearn.metrics import precision_score as pr\n",
        "from sklearn.metrics import recall_score as rec\n",
        "from sklearn.metrics import confusion_matrix"
      ],
      "execution_count": 2,
      "outputs": [
        {
          "output_type": "stream",
          "text": [
            "/usr/local/lib/python3.6/dist-packages/statsmodels/tools/_testing.py:19: FutureWarning: pandas.util.testing is deprecated. Use the functions in the public API at pandas.testing instead.\n",
            "  import pandas.util.testing as tm\n"
          ],
          "name": "stderr"
        }
      ]
    },
    {
      "cell_type": "code",
      "metadata": {
        "id": "lpEUF7Z4SfW8",
        "colab_type": "code",
        "colab": {}
      },
      "source": [
        "df = pd.read_csv('ceden.csv', engine='python')"
      ],
      "execution_count": 0,
      "outputs": []
    },
    {
      "cell_type": "code",
      "metadata": {
        "id": "dtMJnvSWTf35",
        "colab_type": "code",
        "outputId": "bcaed18e-2ed3-4027-a0fb-8dc0fb9dd954",
        "colab": {
          "base_uri": "https://localhost:8080/",
          "height": 569
        }
      },
      "source": [
        "df.head()"
      ],
      "execution_count": 4,
      "outputs": [
        {
          "output_type": "execute_result",
          "data": {
            "text/html": [
              "<div>\n",
              "<style scoped>\n",
              "    .dataframe tbody tr th:only-of-type {\n",
              "        vertical-align: middle;\n",
              "    }\n",
              "\n",
              "    .dataframe tbody tr th {\n",
              "        vertical-align: top;\n",
              "    }\n",
              "\n",
              "    .dataframe thead th {\n",
              "        text-align: right;\n",
              "    }\n",
              "</style>\n",
              "<table border=\"1\" class=\"dataframe\">\n",
              "  <thead>\n",
              "    <tr style=\"text-align: right;\">\n",
              "      <th></th>\n",
              "      <th>Program</th>\n",
              "      <th>ParentProject</th>\n",
              "      <th>Project</th>\n",
              "      <th>StationName</th>\n",
              "      <th>StationCode</th>\n",
              "      <th>SampleDate</th>\n",
              "      <th>CollectionTime</th>\n",
              "      <th>LocationCode</th>\n",
              "      <th>CollectionDepth</th>\n",
              "      <th>UnitCollectionDepth</th>\n",
              "      <th>SampleTypeCode</th>\n",
              "      <th>CollectionReplicate</th>\n",
              "      <th>ResultsReplicate</th>\n",
              "      <th>LabBatch</th>\n",
              "      <th>LabSampleID</th>\n",
              "      <th>MatrixName</th>\n",
              "      <th>MethodName</th>\n",
              "      <th>Analyte</th>\n",
              "      <th>Unit</th>\n",
              "      <th>Result</th>\n",
              "      <th>Observation</th>\n",
              "      <th>MDL</th>\n",
              "      <th>RL</th>\n",
              "      <th>ResultQualCode</th>\n",
              "      <th>QACode</th>\n",
              "      <th>BatchVerification</th>\n",
              "      <th>ComplianceCode</th>\n",
              "      <th>SampleComments</th>\n",
              "      <th>CollectionComments</th>\n",
              "      <th>ResultsComments</th>\n",
              "      <th>BatchComments</th>\n",
              "      <th>EventCode</th>\n",
              "      <th>ProtocolCode</th>\n",
              "      <th>SampleAgency</th>\n",
              "      <th>GroupSamples</th>\n",
              "      <th>CollectionMethodName</th>\n",
              "      <th>TargetLatitude</th>\n",
              "      <th>TargetLongitude</th>\n",
              "      <th>CollectionDeviceDescription</th>\n",
              "      <th>CalibrationDate</th>\n",
              "      <th>PositionWaterColumn</th>\n",
              "      <th>PrepPreservationName</th>\n",
              "      <th>PrepPreservationDate</th>\n",
              "      <th>DigestExtractMethod</th>\n",
              "      <th>DigestExtractDate</th>\n",
              "      <th>AnalysisDate</th>\n",
              "      <th>DilutionFactor</th>\n",
              "      <th>ExpectedValue</th>\n",
              "      <th>LabAgency</th>\n",
              "      <th>SubmittingAgency</th>\n",
              "      <th>SubmissionCode</th>\n",
              "      <th>OccupationMethod</th>\n",
              "      <th>StartingBank</th>\n",
              "      <th>DistanceFromBank</th>\n",
              "      <th>UnitDistanceFromBank</th>\n",
              "      <th>StreamWidth</th>\n",
              "      <th>UnitStreamWidth</th>\n",
              "      <th>StationWaterDepth</th>\n",
              "      <th>UnitStationWaterDepth</th>\n",
              "      <th>HydroMod</th>\n",
              "      <th>HydroModLoc</th>\n",
              "      <th>LocationDetailWQComments</th>\n",
              "      <th>ChannelWidth</th>\n",
              "      <th>UpstreamLength</th>\n",
              "      <th>DownstreamLength</th>\n",
              "      <th>TotalReach</th>\n",
              "      <th>LocationDetailBAComments</th>\n",
              "      <th>county</th>\n",
              "      <th>county_fips</th>\n",
              "      <th>regional_board</th>\n",
              "      <th>rb_number</th>\n",
              "      <th>huc8</th>\n",
              "      <th>huc8_number</th>\n",
              "      <th>huc10</th>\n",
              "      <th>huc10_number</th>\n",
              "      <th>huc12</th>\n",
              "      <th>huc12_number</th>\n",
              "      <th>waterbody_type</th>\n",
              "      <th>SampleID</th>\n",
              "    </tr>\n",
              "  </thead>\n",
              "  <tbody>\n",
              "    <tr>\n",
              "      <th>0</th>\n",
              "      <td>2004-2011 Acterra</td>\n",
              "      <td>2004-2011 Acterra</td>\n",
              "      <td>2004-2011 Acterra Water Quality</td>\n",
              "      <td>Moss Rock</td>\n",
              "      <td>205STE100</td>\n",
              "      <td>1/9/2007</td>\n",
              "      <td>6:35:50</td>\n",
              "      <td>Not Recorded</td>\n",
              "      <td>-88.0</td>\n",
              "      <td>m</td>\n",
              "      <td>Not Recorded</td>\n",
              "      <td>1</td>\n",
              "      <td>1</td>\n",
              "      <td>NaN</td>\n",
              "      <td>NaN</td>\n",
              "      <td>samplewater</td>\n",
              "      <td>FieldMeasure</td>\n",
              "      <td>ElectricalConductivity, Total</td>\n",
              "      <td>uS/cm</td>\n",
              "      <td>683</td>\n",
              "      <td>NaN</td>\n",
              "      <td>NaN</td>\n",
              "      <td>NaN</td>\n",
              "      <td>=</td>\n",
              "      <td>None</td>\n",
              "      <td>NR</td>\n",
              "      <td>Com</td>\n",
              "      <td>NaN</td>\n",
              "      <td>NaN</td>\n",
              "      <td>NaN</td>\n",
              "      <td>NaN</td>\n",
              "      <td>WQ</td>\n",
              "      <td>Not Recorded</td>\n",
              "      <td>Acterra</td>\n",
              "      <td>NaN</td>\n",
              "      <td>Water_Grab</td>\n",
              "      <td>37.272259</td>\n",
              "      <td>-122.082779</td>\n",
              "      <td>Not Recorded</td>\n",
              "      <td>1/1/1950</td>\n",
              "      <td>NaN</td>\n",
              "      <td>NaN</td>\n",
              "      <td>0000-00-00 00:00:00</td>\n",
              "      <td>NaN</td>\n",
              "      <td>0000-00-00</td>\n",
              "      <td>0000-00-00</td>\n",
              "      <td>NaN</td>\n",
              "      <td>NaN</td>\n",
              "      <td>NaN</td>\n",
              "      <td>NaN</td>\n",
              "      <td>NaN</td>\n",
              "      <td>NaN</td>\n",
              "      <td>NaN</td>\n",
              "      <td>NaN</td>\n",
              "      <td>NaN</td>\n",
              "      <td>NaN</td>\n",
              "      <td>NaN</td>\n",
              "      <td>NaN</td>\n",
              "      <td>NaN</td>\n",
              "      <td>NaN</td>\n",
              "      <td>NaN</td>\n",
              "      <td>NaN</td>\n",
              "      <td>NaN</td>\n",
              "      <td>NaN</td>\n",
              "      <td>NaN</td>\n",
              "      <td>NaN</td>\n",
              "      <td>NaN</td>\n",
              "      <td>Santa Clara</td>\n",
              "      <td>85.0</td>\n",
              "      <td>San Francisco Bay</td>\n",
              "      <td>2.0</td>\n",
              "      <td>NaN</td>\n",
              "      <td>NaN</td>\n",
              "      <td>NaN</td>\n",
              "      <td>NaN</td>\n",
              "      <td>NaN</td>\n",
              "      <td>NaN</td>\n",
              "      <td>NaN</td>\n",
              "      <td>NaN</td>\n",
              "    </tr>\n",
              "    <tr>\n",
              "      <th>1</th>\n",
              "      <td>2004-2011 Acterra</td>\n",
              "      <td>2004-2011 Acterra</td>\n",
              "      <td>2004-2011 Acterra Water Quality</td>\n",
              "      <td>Moss Rock</td>\n",
              "      <td>205STE100</td>\n",
              "      <td>2/25/2007</td>\n",
              "      <td>9:16:49</td>\n",
              "      <td>Not Recorded</td>\n",
              "      <td>-88.0</td>\n",
              "      <td>m</td>\n",
              "      <td>Not Recorded</td>\n",
              "      <td>1</td>\n",
              "      <td>1</td>\n",
              "      <td>NaN</td>\n",
              "      <td>NaN</td>\n",
              "      <td>samplewater</td>\n",
              "      <td>FieldMeasure</td>\n",
              "      <td>Temperature</td>\n",
              "      <td>Deg C</td>\n",
              "      <td>9.85</td>\n",
              "      <td>NaN</td>\n",
              "      <td>NaN</td>\n",
              "      <td>NaN</td>\n",
              "      <td>=</td>\n",
              "      <td>None</td>\n",
              "      <td>NR</td>\n",
              "      <td>Com</td>\n",
              "      <td>NaN</td>\n",
              "      <td>NaN</td>\n",
              "      <td>NaN</td>\n",
              "      <td>NaN</td>\n",
              "      <td>WQ</td>\n",
              "      <td>Not Recorded</td>\n",
              "      <td>Acterra</td>\n",
              "      <td>NaN</td>\n",
              "      <td>Water_Grab</td>\n",
              "      <td>37.272259</td>\n",
              "      <td>-122.082779</td>\n",
              "      <td>Not Recorded</td>\n",
              "      <td>1/1/1950</td>\n",
              "      <td>NaN</td>\n",
              "      <td>NaN</td>\n",
              "      <td>0000-00-00 00:00:00</td>\n",
              "      <td>NaN</td>\n",
              "      <td>0000-00-00</td>\n",
              "      <td>0000-00-00</td>\n",
              "      <td>NaN</td>\n",
              "      <td>NaN</td>\n",
              "      <td>NaN</td>\n",
              "      <td>NaN</td>\n",
              "      <td>NaN</td>\n",
              "      <td>NaN</td>\n",
              "      <td>NaN</td>\n",
              "      <td>NaN</td>\n",
              "      <td>NaN</td>\n",
              "      <td>NaN</td>\n",
              "      <td>NaN</td>\n",
              "      <td>NaN</td>\n",
              "      <td>NaN</td>\n",
              "      <td>NaN</td>\n",
              "      <td>NaN</td>\n",
              "      <td>NaN</td>\n",
              "      <td>NaN</td>\n",
              "      <td>NaN</td>\n",
              "      <td>NaN</td>\n",
              "      <td>NaN</td>\n",
              "      <td>NaN</td>\n",
              "      <td>Santa Clara</td>\n",
              "      <td>85.0</td>\n",
              "      <td>San Francisco Bay</td>\n",
              "      <td>2.0</td>\n",
              "      <td>NaN</td>\n",
              "      <td>NaN</td>\n",
              "      <td>NaN</td>\n",
              "      <td>NaN</td>\n",
              "      <td>NaN</td>\n",
              "      <td>NaN</td>\n",
              "      <td>NaN</td>\n",
              "      <td>NaN</td>\n",
              "    </tr>\n",
              "    <tr>\n",
              "      <th>2</th>\n",
              "      <td>2004-2011 Acterra</td>\n",
              "      <td>2004-2011 Acterra</td>\n",
              "      <td>2004-2011 Acterra Water Quality</td>\n",
              "      <td>Moss Rock</td>\n",
              "      <td>205STE100</td>\n",
              "      <td>4/22/2007</td>\n",
              "      <td>8:17:05</td>\n",
              "      <td>Not Recorded</td>\n",
              "      <td>-88.0</td>\n",
              "      <td>m</td>\n",
              "      <td>Not Recorded</td>\n",
              "      <td>1</td>\n",
              "      <td>1</td>\n",
              "      <td>NaN</td>\n",
              "      <td>NaN</td>\n",
              "      <td>samplewater</td>\n",
              "      <td>FieldMeasure</td>\n",
              "      <td>ElectricalConductivity, Total</td>\n",
              "      <td>uS/cm</td>\n",
              "      <td>464</td>\n",
              "      <td>NaN</td>\n",
              "      <td>NaN</td>\n",
              "      <td>NaN</td>\n",
              "      <td>=</td>\n",
              "      <td>None</td>\n",
              "      <td>NR</td>\n",
              "      <td>Com</td>\n",
              "      <td>NaN</td>\n",
              "      <td>NaN</td>\n",
              "      <td>NaN</td>\n",
              "      <td>NaN</td>\n",
              "      <td>WQ</td>\n",
              "      <td>Not Recorded</td>\n",
              "      <td>Acterra</td>\n",
              "      <td>NaN</td>\n",
              "      <td>Water_Grab</td>\n",
              "      <td>37.272259</td>\n",
              "      <td>-122.082779</td>\n",
              "      <td>Not Recorded</td>\n",
              "      <td>1/1/1950</td>\n",
              "      <td>NaN</td>\n",
              "      <td>NaN</td>\n",
              "      <td>0000-00-00 00:00:00</td>\n",
              "      <td>NaN</td>\n",
              "      <td>0000-00-00</td>\n",
              "      <td>0000-00-00</td>\n",
              "      <td>NaN</td>\n",
              "      <td>NaN</td>\n",
              "      <td>NaN</td>\n",
              "      <td>NaN</td>\n",
              "      <td>NaN</td>\n",
              "      <td>NaN</td>\n",
              "      <td>NaN</td>\n",
              "      <td>NaN</td>\n",
              "      <td>NaN</td>\n",
              "      <td>NaN</td>\n",
              "      <td>NaN</td>\n",
              "      <td>NaN</td>\n",
              "      <td>NaN</td>\n",
              "      <td>NaN</td>\n",
              "      <td>NaN</td>\n",
              "      <td>NaN</td>\n",
              "      <td>NaN</td>\n",
              "      <td>NaN</td>\n",
              "      <td>NaN</td>\n",
              "      <td>NaN</td>\n",
              "      <td>NaN</td>\n",
              "      <td>Santa Clara</td>\n",
              "      <td>85.0</td>\n",
              "      <td>San Francisco Bay</td>\n",
              "      <td>2.0</td>\n",
              "      <td>NaN</td>\n",
              "      <td>NaN</td>\n",
              "      <td>NaN</td>\n",
              "      <td>NaN</td>\n",
              "      <td>NaN</td>\n",
              "      <td>NaN</td>\n",
              "      <td>NaN</td>\n",
              "      <td>NaN</td>\n",
              "    </tr>\n",
              "    <tr>\n",
              "      <th>3</th>\n",
              "      <td>2004-2011 Acterra</td>\n",
              "      <td>2004-2011 Acterra</td>\n",
              "      <td>2004-2011 Acterra Water Quality</td>\n",
              "      <td>Moss Rock</td>\n",
              "      <td>205STE100</td>\n",
              "      <td>4/22/2007</td>\n",
              "      <td>8:17:05</td>\n",
              "      <td>Not Recorded</td>\n",
              "      <td>-88.0</td>\n",
              "      <td>m</td>\n",
              "      <td>Not Recorded</td>\n",
              "      <td>1</td>\n",
              "      <td>1</td>\n",
              "      <td>NaN</td>\n",
              "      <td>NaN</td>\n",
              "      <td>samplewater</td>\n",
              "      <td>FieldMeasure</td>\n",
              "      <td>Temperature</td>\n",
              "      <td>Deg C</td>\n",
              "      <td>9.15</td>\n",
              "      <td>NaN</td>\n",
              "      <td>NaN</td>\n",
              "      <td>NaN</td>\n",
              "      <td>=</td>\n",
              "      <td>None</td>\n",
              "      <td>NR</td>\n",
              "      <td>Com</td>\n",
              "      <td>NaN</td>\n",
              "      <td>NaN</td>\n",
              "      <td>NaN</td>\n",
              "      <td>NaN</td>\n",
              "      <td>WQ</td>\n",
              "      <td>Not Recorded</td>\n",
              "      <td>Acterra</td>\n",
              "      <td>NaN</td>\n",
              "      <td>Water_Grab</td>\n",
              "      <td>37.272259</td>\n",
              "      <td>-122.082779</td>\n",
              "      <td>Not Recorded</td>\n",
              "      <td>1/1/1950</td>\n",
              "      <td>NaN</td>\n",
              "      <td>NaN</td>\n",
              "      <td>0000-00-00 00:00:00</td>\n",
              "      <td>NaN</td>\n",
              "      <td>0000-00-00</td>\n",
              "      <td>0000-00-00</td>\n",
              "      <td>NaN</td>\n",
              "      <td>NaN</td>\n",
              "      <td>NaN</td>\n",
              "      <td>NaN</td>\n",
              "      <td>NaN</td>\n",
              "      <td>NaN</td>\n",
              "      <td>NaN</td>\n",
              "      <td>NaN</td>\n",
              "      <td>NaN</td>\n",
              "      <td>NaN</td>\n",
              "      <td>NaN</td>\n",
              "      <td>NaN</td>\n",
              "      <td>NaN</td>\n",
              "      <td>NaN</td>\n",
              "      <td>NaN</td>\n",
              "      <td>NaN</td>\n",
              "      <td>NaN</td>\n",
              "      <td>NaN</td>\n",
              "      <td>NaN</td>\n",
              "      <td>NaN</td>\n",
              "      <td>NaN</td>\n",
              "      <td>Santa Clara</td>\n",
              "      <td>85.0</td>\n",
              "      <td>San Francisco Bay</td>\n",
              "      <td>2.0</td>\n",
              "      <td>NaN</td>\n",
              "      <td>NaN</td>\n",
              "      <td>NaN</td>\n",
              "      <td>NaN</td>\n",
              "      <td>NaN</td>\n",
              "      <td>NaN</td>\n",
              "      <td>NaN</td>\n",
              "      <td>NaN</td>\n",
              "    </tr>\n",
              "    <tr>\n",
              "      <th>4</th>\n",
              "      <td>2004-2011 Acterra</td>\n",
              "      <td>2004-2011 Acterra</td>\n",
              "      <td>2004-2011 Acterra Water Quality</td>\n",
              "      <td>Moss Rock</td>\n",
              "      <td>205STE100</td>\n",
              "      <td>5/19/2007</td>\n",
              "      <td>8:24:41</td>\n",
              "      <td>Not Recorded</td>\n",
              "      <td>-88.0</td>\n",
              "      <td>m</td>\n",
              "      <td>Not Recorded</td>\n",
              "      <td>1</td>\n",
              "      <td>1</td>\n",
              "      <td>NaN</td>\n",
              "      <td>NaN</td>\n",
              "      <td>samplewater</td>\n",
              "      <td>FieldMeasure</td>\n",
              "      <td>Oxygen, Dissolved, Total</td>\n",
              "      <td>mg/L</td>\n",
              "      <td>10.89</td>\n",
              "      <td>NaN</td>\n",
              "      <td>NaN</td>\n",
              "      <td>NaN</td>\n",
              "      <td>=</td>\n",
              "      <td>None</td>\n",
              "      <td>NR</td>\n",
              "      <td>Com</td>\n",
              "      <td>NaN</td>\n",
              "      <td>NaN</td>\n",
              "      <td>NaN</td>\n",
              "      <td>NaN</td>\n",
              "      <td>WQ</td>\n",
              "      <td>Not Recorded</td>\n",
              "      <td>Acterra</td>\n",
              "      <td>NaN</td>\n",
              "      <td>Water_Grab</td>\n",
              "      <td>37.272259</td>\n",
              "      <td>-122.082779</td>\n",
              "      <td>Not Recorded</td>\n",
              "      <td>1/1/1950</td>\n",
              "      <td>NaN</td>\n",
              "      <td>NaN</td>\n",
              "      <td>0000-00-00 00:00:00</td>\n",
              "      <td>NaN</td>\n",
              "      <td>0000-00-00</td>\n",
              "      <td>0000-00-00</td>\n",
              "      <td>NaN</td>\n",
              "      <td>NaN</td>\n",
              "      <td>NaN</td>\n",
              "      <td>NaN</td>\n",
              "      <td>NaN</td>\n",
              "      <td>NaN</td>\n",
              "      <td>NaN</td>\n",
              "      <td>NaN</td>\n",
              "      <td>NaN</td>\n",
              "      <td>NaN</td>\n",
              "      <td>NaN</td>\n",
              "      <td>NaN</td>\n",
              "      <td>NaN</td>\n",
              "      <td>NaN</td>\n",
              "      <td>NaN</td>\n",
              "      <td>NaN</td>\n",
              "      <td>NaN</td>\n",
              "      <td>NaN</td>\n",
              "      <td>NaN</td>\n",
              "      <td>NaN</td>\n",
              "      <td>NaN</td>\n",
              "      <td>Santa Clara</td>\n",
              "      <td>85.0</td>\n",
              "      <td>San Francisco Bay</td>\n",
              "      <td>2.0</td>\n",
              "      <td>NaN</td>\n",
              "      <td>NaN</td>\n",
              "      <td>NaN</td>\n",
              "      <td>NaN</td>\n",
              "      <td>NaN</td>\n",
              "      <td>NaN</td>\n",
              "      <td>NaN</td>\n",
              "      <td>NaN</td>\n",
              "    </tr>\n",
              "  </tbody>\n",
              "</table>\n",
              "</div>"
            ],
            "text/plain": [
              "             Program      ParentProject  ... waterbody_type SampleID\n",
              "0  2004-2011 Acterra  2004-2011 Acterra  ...            NaN      NaN\n",
              "1  2004-2011 Acterra  2004-2011 Acterra  ...            NaN      NaN\n",
              "2  2004-2011 Acterra  2004-2011 Acterra  ...            NaN      NaN\n",
              "3  2004-2011 Acterra  2004-2011 Acterra  ...            NaN      NaN\n",
              "4  2004-2011 Acterra  2004-2011 Acterra  ...            NaN      NaN\n",
              "\n",
              "[5 rows x 79 columns]"
            ]
          },
          "metadata": {
            "tags": []
          },
          "execution_count": 4
        }
      ]
    },
    {
      "cell_type": "code",
      "metadata": {
        "id": "qzq_mzc1Th3n",
        "colab_type": "code",
        "outputId": "9d8cee68-337c-4400-e806-1e46e3eac1a7",
        "colab": {
          "base_uri": "https://localhost:8080/",
          "height": 1000
        }
      },
      "source": [
        "df.info()"
      ],
      "execution_count": 5,
      "outputs": [
        {
          "output_type": "stream",
          "text": [
            "<class 'pandas.core.frame.DataFrame'>\n",
            "RangeIndex: 60000 entries, 0 to 59999\n",
            "Data columns (total 79 columns):\n",
            " #   Column                       Non-Null Count  Dtype  \n",
            "---  ------                       --------------  -----  \n",
            " 0   Program                      60000 non-null  object \n",
            " 1   ParentProject                60000 non-null  object \n",
            " 2   Project                      60000 non-null  object \n",
            " 3   StationName                  60000 non-null  object \n",
            " 4   StationCode                  60000 non-null  object \n",
            " 5   SampleDate                   60000 non-null  object \n",
            " 6   CollectionTime               60000 non-null  object \n",
            " 7   LocationCode                 60000 non-null  object \n",
            " 8   CollectionDepth              60000 non-null  float64\n",
            " 9   UnitCollectionDepth          60000 non-null  object \n",
            " 10  SampleTypeCode               60000 non-null  object \n",
            " 11  CollectionReplicate          60000 non-null  int64  \n",
            " 12  ResultsReplicate             60000 non-null  int64  \n",
            " 13  LabBatch                     0 non-null      float64\n",
            " 14  LabSampleID                  0 non-null      float64\n",
            " 15  MatrixName                   60000 non-null  object \n",
            " 16  MethodName                   60000 non-null  object \n",
            " 17  Analyte                      60000 non-null  object \n",
            " 18  Unit                         60000 non-null  object \n",
            " 19  Result                       56035 non-null  object \n",
            " 20  Observation                  0 non-null      float64\n",
            " 21  MDL                          0 non-null      float64\n",
            " 22  RL                           0 non-null      float64\n",
            " 23  ResultQualCode               59951 non-null  object \n",
            " 24  QACode                       60000 non-null  object \n",
            " 25  BatchVerification            59883 non-null  object \n",
            " 26  ComplianceCode               59995 non-null  object \n",
            " 27  SampleComments               3542 non-null   object \n",
            " 28  CollectionComments           3922 non-null   object \n",
            " 29  ResultsComments              25578 non-null  object \n",
            " 30  BatchComments                0 non-null      float64\n",
            " 31  EventCode                    60000 non-null  object \n",
            " 32  ProtocolCode                 60000 non-null  object \n",
            " 33  SampleAgency                 60000 non-null  object \n",
            " 34  GroupSamples                 0 non-null      float64\n",
            " 35  CollectionMethodName         60000 non-null  object \n",
            " 36  TargetLatitude               59303 non-null  float64\n",
            " 37  TargetLongitude              59303 non-null  float64\n",
            " 38  CollectionDeviceDescription  60000 non-null  object \n",
            " 39  CalibrationDate              60000 non-null  object \n",
            " 40  PositionWaterColumn          58515 non-null  object \n",
            " 41  PrepPreservationName         0 non-null      float64\n",
            " 42  PrepPreservationDate         60000 non-null  object \n",
            " 43  DigestExtractMethod          0 non-null      float64\n",
            " 44  DigestExtractDate            60000 non-null  object \n",
            " 45  AnalysisDate                 60000 non-null  object \n",
            " 46  DilutionFactor               0 non-null      float64\n",
            " 47  ExpectedValue                0 non-null      float64\n",
            " 48  LabAgency                    0 non-null      float64\n",
            " 49  SubmittingAgency             0 non-null      float64\n",
            " 50  SubmissionCode               0 non-null      float64\n",
            " 51  OccupationMethod             529 non-null    object \n",
            " 52  StartingBank                 997 non-null    object \n",
            " 53  DistanceFromBank             1079 non-null   float64\n",
            " 54  UnitDistanceFromBank         1006 non-null   object \n",
            " 55  StreamWidth                  1084 non-null   float64\n",
            " 56  UnitStreamWidth              1069 non-null   object \n",
            " 57  StationWaterDepth            1087 non-null   float64\n",
            " 58  UnitStationWaterDepth        1069 non-null   object \n",
            " 59  HydroMod                     1082 non-null   object \n",
            " 60  HydroModLoc                  702 non-null    object \n",
            " 61  LocationDetailWQComments     35 non-null     object \n",
            " 62  ChannelWidth                 0 non-null      float64\n",
            " 63  UpstreamLength               0 non-null      float64\n",
            " 64  DownstreamLength             0 non-null      float64\n",
            " 65  TotalReach                   0 non-null      float64\n",
            " 66  LocationDetailBAComments     0 non-null      float64\n",
            " 67  county                       58384 non-null  object \n",
            " 68  county_fips                  58384 non-null  float64\n",
            " 69  regional_board               58629 non-null  object \n",
            " 70  rb_number                    58629 non-null  float64\n",
            " 71  huc8                         0 non-null      float64\n",
            " 72  huc8_number                  0 non-null      float64\n",
            " 73  huc10                        0 non-null      float64\n",
            " 74  huc10_number                 0 non-null      float64\n",
            " 75  huc12                        4750 non-null   object \n",
            " 76  huc12_number                 4750 non-null   float64\n",
            " 77  waterbody_type               34293 non-null  object \n",
            " 78  SampleID                     0 non-null      float64\n",
            "dtypes: float64(33), int64(2), object(44)\n",
            "memory usage: 36.2+ MB\n"
          ],
          "name": "stdout"
        }
      ]
    },
    {
      "cell_type": "code",
      "metadata": {
        "id": "MEhCnqTd89nr",
        "colab_type": "code",
        "outputId": "980fb37d-c970-45ac-bda6-cb4169e34d5d",
        "colab": {
          "base_uri": "https://localhost:8080/",
          "height": 416
        }
      },
      "source": [
        "# get 2 attributes\n",
        "\n",
        "data = df[['Unit','Result']]\n",
        "\n",
        "data"
      ],
      "execution_count": 6,
      "outputs": [
        {
          "output_type": "execute_result",
          "data": {
            "text/html": [
              "<div>\n",
              "<style scoped>\n",
              "    .dataframe tbody tr th:only-of-type {\n",
              "        vertical-align: middle;\n",
              "    }\n",
              "\n",
              "    .dataframe tbody tr th {\n",
              "        vertical-align: top;\n",
              "    }\n",
              "\n",
              "    .dataframe thead th {\n",
              "        text-align: right;\n",
              "    }\n",
              "</style>\n",
              "<table border=\"1\" class=\"dataframe\">\n",
              "  <thead>\n",
              "    <tr style=\"text-align: right;\">\n",
              "      <th></th>\n",
              "      <th>Unit</th>\n",
              "      <th>Result</th>\n",
              "    </tr>\n",
              "  </thead>\n",
              "  <tbody>\n",
              "    <tr>\n",
              "      <th>0</th>\n",
              "      <td>uS/cm</td>\n",
              "      <td>683</td>\n",
              "    </tr>\n",
              "    <tr>\n",
              "      <th>1</th>\n",
              "      <td>Deg C</td>\n",
              "      <td>9.85</td>\n",
              "    </tr>\n",
              "    <tr>\n",
              "      <th>2</th>\n",
              "      <td>uS/cm</td>\n",
              "      <td>464</td>\n",
              "    </tr>\n",
              "    <tr>\n",
              "      <th>3</th>\n",
              "      <td>Deg C</td>\n",
              "      <td>9.15</td>\n",
              "    </tr>\n",
              "    <tr>\n",
              "      <th>4</th>\n",
              "      <td>mg/L</td>\n",
              "      <td>10.89</td>\n",
              "    </tr>\n",
              "    <tr>\n",
              "      <th>...</th>\n",
              "      <td>...</td>\n",
              "      <td>...</td>\n",
              "    </tr>\n",
              "    <tr>\n",
              "      <th>59995</th>\n",
              "      <td>uS/cm</td>\n",
              "      <td>NaN</td>\n",
              "    </tr>\n",
              "    <tr>\n",
              "      <th>59996</th>\n",
              "      <td>NTU</td>\n",
              "      <td>NaN</td>\n",
              "    </tr>\n",
              "    <tr>\n",
              "      <th>59997</th>\n",
              "      <td>Deg C</td>\n",
              "      <td>26.6</td>\n",
              "    </tr>\n",
              "    <tr>\n",
              "      <th>59998</th>\n",
              "      <td>%</td>\n",
              "      <td>NaN</td>\n",
              "    </tr>\n",
              "    <tr>\n",
              "      <th>59999</th>\n",
              "      <td>g/L</td>\n",
              "      <td>NaN</td>\n",
              "    </tr>\n",
              "  </tbody>\n",
              "</table>\n",
              "<p>60000 rows × 2 columns</p>\n",
              "</div>"
            ],
            "text/plain": [
              "        Unit Result\n",
              "0      uS/cm    683\n",
              "1      Deg C   9.85\n",
              "2      uS/cm    464\n",
              "3      Deg C   9.15\n",
              "4       mg/L  10.89\n",
              "...      ...    ...\n",
              "59995  uS/cm    NaN\n",
              "59996    NTU    NaN\n",
              "59997  Deg C   26.6\n",
              "59998      %    NaN\n",
              "59999    g/L    NaN\n",
              "\n",
              "[60000 rows x 2 columns]"
            ]
          },
          "metadata": {
            "tags": []
          },
          "execution_count": 6
        }
      ]
    },
    {
      "cell_type": "code",
      "metadata": {
        "id": "oNQS9Bwc9JQq",
        "colab_type": "code",
        "outputId": "c31d168a-a5fd-4be7-b897-4bb3776a7b1a",
        "colab": {
          "base_uri": "https://localhost:8080/",
          "height": 416
        }
      },
      "source": [
        "# drop missing value\n",
        "\n",
        "data = pd.DataFrame.dropna(data)\n",
        "\n",
        "data"
      ],
      "execution_count": 7,
      "outputs": [
        {
          "output_type": "execute_result",
          "data": {
            "text/html": [
              "<div>\n",
              "<style scoped>\n",
              "    .dataframe tbody tr th:only-of-type {\n",
              "        vertical-align: middle;\n",
              "    }\n",
              "\n",
              "    .dataframe tbody tr th {\n",
              "        vertical-align: top;\n",
              "    }\n",
              "\n",
              "    .dataframe thead th {\n",
              "        text-align: right;\n",
              "    }\n",
              "</style>\n",
              "<table border=\"1\" class=\"dataframe\">\n",
              "  <thead>\n",
              "    <tr style=\"text-align: right;\">\n",
              "      <th></th>\n",
              "      <th>Unit</th>\n",
              "      <th>Result</th>\n",
              "    </tr>\n",
              "  </thead>\n",
              "  <tbody>\n",
              "    <tr>\n",
              "      <th>0</th>\n",
              "      <td>uS/cm</td>\n",
              "      <td>683</td>\n",
              "    </tr>\n",
              "    <tr>\n",
              "      <th>1</th>\n",
              "      <td>Deg C</td>\n",
              "      <td>9.85</td>\n",
              "    </tr>\n",
              "    <tr>\n",
              "      <th>2</th>\n",
              "      <td>uS/cm</td>\n",
              "      <td>464</td>\n",
              "    </tr>\n",
              "    <tr>\n",
              "      <th>3</th>\n",
              "      <td>Deg C</td>\n",
              "      <td>9.15</td>\n",
              "    </tr>\n",
              "    <tr>\n",
              "      <th>4</th>\n",
              "      <td>mg/L</td>\n",
              "      <td>10.89</td>\n",
              "    </tr>\n",
              "    <tr>\n",
              "      <th>...</th>\n",
              "      <td>...</td>\n",
              "      <td>...</td>\n",
              "    </tr>\n",
              "    <tr>\n",
              "      <th>59990</th>\n",
              "      <td>uS/cm</td>\n",
              "      <td>1399</td>\n",
              "    </tr>\n",
              "    <tr>\n",
              "      <th>59991</th>\n",
              "      <td>uS/cm</td>\n",
              "      <td>1097</td>\n",
              "    </tr>\n",
              "    <tr>\n",
              "      <th>59992</th>\n",
              "      <td>%</td>\n",
              "      <td>67.1</td>\n",
              "    </tr>\n",
              "    <tr>\n",
              "      <th>59993</th>\n",
              "      <td>%</td>\n",
              "      <td>96.9</td>\n",
              "    </tr>\n",
              "    <tr>\n",
              "      <th>59997</th>\n",
              "      <td>Deg C</td>\n",
              "      <td>26.6</td>\n",
              "    </tr>\n",
              "  </tbody>\n",
              "</table>\n",
              "<p>56035 rows × 2 columns</p>\n",
              "</div>"
            ],
            "text/plain": [
              "        Unit Result\n",
              "0      uS/cm    683\n",
              "1      Deg C   9.85\n",
              "2      uS/cm    464\n",
              "3      Deg C   9.15\n",
              "4       mg/L  10.89\n",
              "...      ...    ...\n",
              "59990  uS/cm   1399\n",
              "59991  uS/cm   1097\n",
              "59992      %   67.1\n",
              "59993      %   96.9\n",
              "59997  Deg C   26.6\n",
              "\n",
              "[56035 rows x 2 columns]"
            ]
          },
          "metadata": {
            "tags": []
          },
          "execution_count": 7
        }
      ]
    },
    {
      "cell_type": "code",
      "metadata": {
        "id": "9HEQfrMTOo27",
        "colab_type": "code",
        "outputId": "aa049c48-da72-402f-d9dc-442d41628aea",
        "colab": {
          "base_uri": "https://localhost:8080/",
          "height": 277
        }
      },
      "source": [
        "# drop string\n",
        "\n",
        "data = data[~((data['Result'] == 'none') | (data['Result'] == 'Brown') | (data['Result'] == 'Clear') | (data['Result'] == 'Cloudy') | (data['Result'] == 'M') | (data['Result'] == 'NR') | (data['Result'] == 'OR') | (data['Result'] == 'yellow'))]\n",
        "data['Result'] = data['Result'].astype('float')\n",
        "data.info()"
      ],
      "execution_count": 8,
      "outputs": [
        {
          "output_type": "stream",
          "text": [
            "<class 'pandas.core.frame.DataFrame'>\n",
            "Int64Index: 55927 entries, 0 to 59997\n",
            "Data columns (total 2 columns):\n",
            " #   Column  Non-Null Count  Dtype  \n",
            "---  ------  --------------  -----  \n",
            " 0   Unit    55927 non-null  object \n",
            " 1   Result  55927 non-null  float64\n",
            "dtypes: float64(1), object(1)\n",
            "memory usage: 1.3+ MB\n"
          ],
          "name": "stdout"
        },
        {
          "output_type": "stream",
          "text": [
            "/usr/local/lib/python3.6/dist-packages/ipykernel_launcher.py:3: SettingWithCopyWarning: \n",
            "A value is trying to be set on a copy of a slice from a DataFrame.\n",
            "Try using .loc[row_indexer,col_indexer] = value instead\n",
            "\n",
            "See the caveats in the documentation: https://pandas.pydata.org/pandas-docs/stable/user_guide/indexing.html#returning-a-view-versus-a-copy\n",
            "  This is separate from the ipykernel package so we can avoid doing imports until\n"
          ],
          "name": "stderr"
        }
      ]
    },
    {
      "cell_type": "code",
      "metadata": {
        "id": "9Lxp8xpTyFNs",
        "colab_type": "code",
        "colab": {}
      },
      "source": [
        "# split data based on unit\n",
        "\n",
        "prc = data.loc[(data['Unit'] == '%')]\n",
        "bcs = data.loc[(data['Unit'] == 'BCS')]\n",
        "cfs = data.loc[(data['Unit'] == 'cfs')]\n",
        "cm = data.loc[(data['Unit'] == 'cm')]\n",
        "deg = data.loc[(data['Unit'] == 'Deg C')]\n",
        "fts = data.loc[(data['Unit'] == 'ft/s')]\n",
        "gl = data.loc[(data['Unit'] == 'g/L')]\n",
        "ms = data.loc[(data['Unit'] == 'm/s')]\n",
        "mgl = data.loc[(data['Unit'] == 'mg/L')]\n",
        "mpn = data.loc[(data['Unit'] == 'MPN/100 mL')]\n",
        "ph = data.loc[(data['Unit'] == 'none')]\n",
        "ntu = data.loc[(data['Unit'] == 'NTU')]\n",
        "ppt = data.loc[(data['Unit'] == 'ppt')]\n",
        "ugl = data.loc[(data['Unit'] == 'ug/L')]\n",
        "uscm = data.loc[(data['Unit'] == 'uS/cm')]"
      ],
      "execution_count": 0,
      "outputs": []
    },
    {
      "cell_type": "code",
      "metadata": {
        "id": "FoLom-yGe8c4",
        "colab_type": "code",
        "outputId": "f805df05-d16d-4716-8899-6a4c0cf8b713",
        "colab": {
          "base_uri": "https://localhost:8080/",
          "height": 269
        }
      },
      "source": [
        "f, axes = plt.subplots(1, 5)\n",
        "sns.boxplot(y=prc['Result'], ax=axes[0])\n",
        "sns.boxplot(y=bcs['Result'],ax=axes[1])\n",
        "sns.boxplot(y=cfs['Result'],ax=axes[2])\n",
        "sns.boxplot(y=cm['Result'],ax=axes[3])\n",
        "sns.boxplot(y=deg['Result'],ax=axes[4])"
      ],
      "execution_count": 10,
      "outputs": [
        {
          "output_type": "execute_result",
          "data": {
            "text/plain": [
              "<matplotlib.axes._subplots.AxesSubplot at 0x7f171b644630>"
            ]
          },
          "metadata": {
            "tags": []
          },
          "execution_count": 10
        },
        {
          "output_type": "display_data",
          "data": {
            "image/png": "[encoded data removed]",
            "text/plain": [
              "<Figure size 432x288 with 5 Axes>"
            ]
          },
          "metadata": {
            "tags": [],
            "needs_background": "light"
          }
        }
      ]
    },
    {
      "cell_type": "code",
      "metadata": {
        "id": "WJbQ0HmeyYqK",
        "colab_type": "code",
        "outputId": "e6f82d4b-f398-4a61-dab4-c2b710a566b7",
        "colab": {
          "base_uri": "https://localhost:8080/",
          "height": 269
        }
      },
      "source": [
        "f, axes = plt.subplots(1, 5)\n",
        "sns.boxplot(y=fts['Result'], ax=axes[0])\n",
        "sns.boxplot(y=gl['Result'],ax=axes[1])\n",
        "sns.boxplot(y=ms['Result'],ax=axes[2])\n",
        "sns.boxplot(y=mgl['Result'],ax=axes[3])\n",
        "sns.boxplot(y=mpn['Result'],ax=axes[4])"
      ],
      "execution_count": 11,
      "outputs": [
        {
          "output_type": "execute_result",
          "data": {
            "text/plain": [
              "<matplotlib.axes._subplots.AxesSubplot at 0x7f171b5aa9e8>"
            ]
          },
          "metadata": {
            "tags": []
          },
          "execution_count": 11
        },
        {
          "output_type": "display_data",
          "data": {
            "image/png": "[encoded data removed]",
            "text/plain": [
              "<Figure size 432x288 with 5 Axes>"
            ]
          },
          "metadata": {
            "tags": [],
            "needs_background": "light"
          }
        }
      ]
    },
    {
      "cell_type": "code",
      "metadata": {
        "id": "Myc0pdCbyZvE",
        "colab_type": "code",
        "outputId": "e6f13fe2-7fe1-4026-bf24-a43a94728e5b",
        "colab": {
          "base_uri": "https://localhost:8080/",
          "height": 272
        }
      },
      "source": [
        "f, axes = plt.subplots(1, 5)\n",
        "sns.boxplot(y=ph['Result'], ax=axes[0])\n",
        "sns.boxplot(y=ntu['Result'],ax=axes[1])\n",
        "sns.boxplot(y=ppt['Result'],ax=axes[2])\n",
        "sns.boxplot(y=ugl['Result'],ax=axes[3])\n",
        "sns.boxplot(y=uscm['Result'],ax=axes[4])"
      ],
      "execution_count": 12,
      "outputs": [
        {
          "output_type": "execute_result",
          "data": {
            "text/plain": [
              "<matplotlib.axes._subplots.AxesSubplot at 0x7f171b4950b8>"
            ]
          },
          "metadata": {
            "tags": []
          },
          "execution_count": 12
        },
        {
          "output_type": "display_data",
          "data": {
            "image/png": "[encoded data removed]",
            "text/plain": [
              "<Figure size 432x288 with 5 Axes>"
            ]
          },
          "metadata": {
            "tags": [],
            "needs_background": "light"
          }
        }
      ]
    },
    {
      "cell_type": "code",
      "metadata": {
        "id": "jGFtd3HjVqsp",
        "colab_type": "code",
        "colab": {}
      },
      "source": [
        "# check outlier\n",
        "\n",
        "def outlier(dt):\n",
        "  q1, q3 = np.percentile(dt,[25,75])\n",
        "  iqr = q3 - q1\n",
        "  lower = q1 - (1.5 * iqr)\n",
        "  upper = q3 + (1.5 * iqr)\n",
        "  out = dt[((dt < lower) | (dt > upper))]\n",
        "  return out"
      ],
      "execution_count": 0,
      "outputs": []
    },
    {
      "cell_type": "code",
      "metadata": {
        "id": "rEW_KpUDaVbw",
        "colab_type": "code",
        "outputId": "217bcd25-5cfc-478f-b661-f95dfad6b90b",
        "colab": {
          "base_uri": "https://localhost:8080/",
          "height": 485
        }
      },
      "source": [
        "# insert '1' for data outlier\n",
        "\n",
        "data.loc[outlier(prc['Result']).index, 'Class'] = '1'\n",
        "data.loc[outlier(bcs['Result']).index, 'Class'] = '1'\n",
        "data.loc[outlier(cfs['Result']).index, 'Class'] = '1'\n",
        "data.loc[outlier(cm['Result']).index, 'Class'] = '1'\n",
        "data.loc[outlier(deg['Result']).index, 'Class'] = '1'\n",
        "data.loc[outlier(fts['Result']).index, 'Class'] = '1'\n",
        "data.loc[outlier(gl['Result']).index, 'Class'] = '1'\n",
        "data.loc[outlier(ms['Result']).index, 'Class'] = '1'\n",
        "data.loc[outlier(mgl['Result']).index, 'Class'] = '1'\n",
        "data.loc[outlier(mpn['Result']).index, 'Class'] = '1'\n",
        "data.loc[outlier(ph['Result']).index, 'Class'] = '1'\n",
        "data.loc[outlier(ntu['Result']).index, 'Class'] = '1'\n",
        "data.loc[outlier(ppt['Result']).index, 'Class'] = '1'\n",
        "data.loc[outlier(ugl['Result']).index, 'Class'] = '1'\n",
        "data.loc[outlier(uscm['Result']).index, 'Class'] = '1'\n",
        "\n",
        "# insert '0' for data non-outlier\n",
        "\n",
        "data['Class'] = data['Class'].fillna(0)\n",
        "\n",
        "data.info()"
      ],
      "execution_count": 14,
      "outputs": [
        {
          "output_type": "stream",
          "text": [
            "<class 'pandas.core.frame.DataFrame'>\n",
            "Int64Index: 55927 entries, 0 to 59997\n",
            "Data columns (total 3 columns):\n",
            " #   Column  Non-Null Count  Dtype  \n",
            "---  ------  --------------  -----  \n",
            " 0   Unit    55927 non-null  object \n",
            " 1   Result  55927 non-null  float64\n",
            " 2   Class   55927 non-null  object \n",
            "dtypes: float64(1), object(2)\n",
            "memory usage: 4.2+ MB\n"
          ],
          "name": "stdout"
        },
        {
          "output_type": "stream",
          "text": [
            "/usr/local/lib/python3.6/dist-packages/pandas/core/indexing.py:845: SettingWithCopyWarning: \n",
            "A value is trying to be set on a copy of a slice from a DataFrame.\n",
            "Try using .loc[row_indexer,col_indexer] = value instead\n",
            "\n",
            "See the caveats in the documentation: https://pandas.pydata.org/pandas-docs/stable/user_guide/indexing.html#returning-a-view-versus-a-copy\n",
            "  self.obj[key] = _infer_fill_value(value)\n",
            "/usr/local/lib/python3.6/dist-packages/pandas/core/indexing.py:966: SettingWithCopyWarning: \n",
            "A value is trying to be set on a copy of a slice from a DataFrame.\n",
            "Try using .loc[row_indexer,col_indexer] = value instead\n",
            "\n",
            "See the caveats in the documentation: https://pandas.pydata.org/pandas-docs/stable/user_guide/indexing.html#returning-a-view-versus-a-copy\n",
            "  self.obj[item] = s\n",
            "/usr/local/lib/python3.6/dist-packages/ipykernel_launcher.py:20: SettingWithCopyWarning: \n",
            "A value is trying to be set on a copy of a slice from a DataFrame.\n",
            "Try using .loc[row_indexer,col_indexer] = value instead\n",
            "\n",
            "See the caveats in the documentation: https://pandas.pydata.org/pandas-docs/stable/user_guide/indexing.html#returning-a-view-versus-a-copy\n"
          ],
          "name": "stderr"
        }
      ]
    },
    {
      "cell_type": "code",
      "metadata": {
        "id": "Q6Z7ptZQN00w",
        "colab_type": "code",
        "colab": {
          "base_uri": "https://localhost:8080/",
          "height": 52
        },
        "outputId": "5a5a89bc-5619-4d0d-cbe6-b51bfee452f2"
      },
      "source": [
        "normal = data[data['Class'] == 0]\n",
        "anomaly = data[data['Class'] == '1']\n",
        "\n",
        "print('Normal',normal.shape)\n",
        "print('Outlier',anomaly.shape)"
      ],
      "execution_count": 26,
      "outputs": [
        {
          "output_type": "stream",
          "text": [
            "Normal (50526, 3)\n",
            "Outlier (5401, 3)\n"
          ],
          "name": "stdout"
        }
      ]
    },
    {
      "cell_type": "markdown",
      "metadata": {
        "id": "p-7vAWbnDZln",
        "colab_type": "text"
      },
      "source": [
        "Naive Bayes & k Nearest Neighbor"
      ]
    },
    {
      "cell_type": "code",
      "metadata": {
        "id": "wpG20tIMyw0E",
        "colab_type": "code",
        "colab": {}
      },
      "source": [
        "# variable selection, splitting into features and class\n",
        "\n",
        "from sklearn import preprocessing\n",
        "\n",
        "encode = preprocessing.LabelEncoder()\n",
        "features = data.drop(['Class'], axis = 1)\n",
        "features['Unit'] = encode.fit_transform(features['Unit'])\n",
        "features['Unit'] = features['Unit'].astype('int')\n",
        "clas = data['Class'].astype('int')"
      ],
      "execution_count": 0,
      "outputs": []
    },
    {
      "cell_type": "code",
      "metadata": {
        "id": "BD9dOCk7yos-",
        "colab_type": "code",
        "colab": {}
      },
      "source": [
        "# splitting into training and testing\n",
        "\n",
        "f_train, f_test, c_train, c_test = tr(features, clas, test_size=0.2, random_state=42) # 80% data train, 20% data test"
      ],
      "execution_count": 0,
      "outputs": []
    },
    {
      "cell_type": "code",
      "metadata": {
        "id": "WLXMFCku1DDH",
        "colab_type": "code",
        "outputId": "0c40734f-b487-4d09-c3f0-7dc9b8ba9e34",
        "colab": {
          "base_uri": "https://localhost:8080/",
          "height": 173
        }
      },
      "source": [
        "f_train.info()"
      ],
      "execution_count": 18,
      "outputs": [
        {
          "output_type": "stream",
          "text": [
            "<class 'pandas.core.frame.DataFrame'>\n",
            "Int64Index: 44741 entries, 52843 to 16437\n",
            "Data columns (total 2 columns):\n",
            " #   Column  Non-Null Count  Dtype  \n",
            "---  ------  --------------  -----  \n",
            " 0   Unit    44741 non-null  int64  \n",
            " 1   Result  44741 non-null  float64\n",
            "dtypes: float64(1), int64(1)\n",
            "memory usage: 1.0 MB\n"
          ],
          "name": "stdout"
        }
      ]
    },
    {
      "cell_type": "code",
      "metadata": {
        "id": "Ezl5xBKE9mtF",
        "colab_type": "code",
        "outputId": "d6bd9873-6125-46c0-d58f-72ad33ca2417",
        "colab": {
          "base_uri": "https://localhost:8080/",
          "height": 225
        }
      },
      "source": [
        "c_train"
      ],
      "execution_count": 19,
      "outputs": [
        {
          "output_type": "execute_result",
          "data": {
            "text/plain": [
              "52843    0\n",
              "52993    0\n",
              "52151    0\n",
              "19816    0\n",
              "32134    0\n",
              "        ..\n",
              "48212    0\n",
              "58132    0\n",
              "40758    0\n",
              "861      0\n",
              "16437    0\n",
              "Name: Class, Length: 44741, dtype: int64"
            ]
          },
          "metadata": {
            "tags": []
          },
          "execution_count": 19
        }
      ]
    },
    {
      "cell_type": "code",
      "metadata": {
        "id": "IWT0NBkl5XPU",
        "colab_type": "code",
        "colab": {}
      },
      "source": [
        "#Create a Gaussian Classifier\n",
        "naive = GaussianNB()\n",
        "\n",
        "# Train the model using the training sets\n",
        "naive.fit(f_train, c_train)\n",
        "\n",
        "#Predict Output\n",
        "cn_predict = naive.predict(f_test)"
      ],
      "execution_count": 0,
      "outputs": []
    },
    {
      "cell_type": "code",
      "metadata": {
        "id": "i40lIyeIrpmL",
        "colab_type": "code",
        "outputId": "0581a7aa-ce14-4dab-e084-53e069c19992",
        "colab": {
          "base_uri": "https://localhost:8080/",
          "height": 141
        }
      },
      "source": [
        "# confusion matrix\n",
        "pd.crosstab(c_test, cn_predict, rownames=['Actual'], colnames=['Predicted'])"
      ],
      "execution_count": 21,
      "outputs": [
        {
          "output_type": "execute_result",
          "data": {
            "text/html": [
              "<div>\n",
              "<style scoped>\n",
              "    .dataframe tbody tr th:only-of-type {\n",
              "        vertical-align: middle;\n",
              "    }\n",
              "\n",
              "    .dataframe tbody tr th {\n",
              "        vertical-align: top;\n",
              "    }\n",
              "\n",
              "    .dataframe thead th {\n",
              "        text-align: right;\n",
              "    }\n",
              "</style>\n",
              "<table border=\"1\" class=\"dataframe\">\n",
              "  <thead>\n",
              "    <tr style=\"text-align: right;\">\n",
              "      <th>Predicted</th>\n",
              "      <th>0</th>\n",
              "      <th>1</th>\n",
              "    </tr>\n",
              "    <tr>\n",
              "      <th>Actual</th>\n",
              "      <th></th>\n",
              "      <th></th>\n",
              "    </tr>\n",
              "  </thead>\n",
              "  <tbody>\n",
              "    <tr>\n",
              "      <th>0</th>\n",
              "      <td>9748</td>\n",
              "      <td>315</td>\n",
              "    </tr>\n",
              "    <tr>\n",
              "      <th>1</th>\n",
              "      <td>947</td>\n",
              "      <td>176</td>\n",
              "    </tr>\n",
              "  </tbody>\n",
              "</table>\n",
              "</div>"
            ],
            "text/plain": [
              "Predicted     0    1\n",
              "Actual              \n",
              "0          9748  315\n",
              "1           947  176"
            ]
          },
          "metadata": {
            "tags": []
          },
          "execution_count": 21
        }
      ]
    },
    {
      "cell_type": "code",
      "metadata": {
        "id": "D78qzoxp6DLp",
        "colab_type": "code",
        "outputId": "b92f6a7d-7286-494d-b84c-4bbe0a246966",
        "colab": {
          "base_uri": "https://localhost:8080/",
          "height": 121
        }
      },
      "source": [
        "# Accuracy score\n",
        "print(\"NAIVE BAYES\\n\")\n",
        "\n",
        "print(\"F1-SCORE \",f1(c_test,cn_predict,average='macro'))\n",
        "\n",
        "print(\"ACCURACY \",acc(c_test,cn_predict))\n",
        "\n",
        "print(\"PRECISION \",pr(c_test,cn_predict,average='macro'))\n",
        "\n",
        "print(\"RECALL\",rec(c_test,cn_predict,average='macro'))"
      ],
      "execution_count": 22,
      "outputs": [
        {
          "output_type": "stream",
          "text": [
            "NAIVE BAYES\n",
            "\n",
            "F1-SCORE  0.5786479299481497\n",
            "ACCURACY  0.8871804040765242\n",
            "PRECISION  0.6349530444685022\n",
            "RECALL 0.5627101354078389\n"
          ],
          "name": "stdout"
        }
      ]
    },
    {
      "cell_type": "code",
      "metadata": {
        "id": "xGZgIeeu5mqM",
        "colab_type": "code",
        "colab": {}
      },
      "source": [
        "#Create a KNeighbors Classifier\n",
        "knn = KNeighborsClassifier(n_neighbors=5)\n",
        "\n",
        "# Train the model using the training sets\n",
        "knn.fit(f_train,c_train)\n",
        "\n",
        "#Predict Output\n",
        "ck_predict = knn.predict(f_test)"
      ],
      "execution_count": 0,
      "outputs": []
    },
    {
      "cell_type": "code",
      "metadata": {
        "id": "0zvoYTtn_-E8",
        "colab_type": "code",
        "outputId": "99d01883-8248-4311-ccf7-8cef0df09c71",
        "colab": {
          "base_uri": "https://localhost:8080/",
          "height": 141
        }
      },
      "source": [
        "# confusion matrix\n",
        "pd.crosstab(c_test, ck_predict, rownames=['Actual'], colnames=['Predicted'])"
      ],
      "execution_count": 24,
      "outputs": [
        {
          "output_type": "execute_result",
          "data": {
            "text/html": [
              "<div>\n",
              "<style scoped>\n",
              "    .dataframe tbody tr th:only-of-type {\n",
              "        vertical-align: middle;\n",
              "    }\n",
              "\n",
              "    .dataframe tbody tr th {\n",
              "        vertical-align: top;\n",
              "    }\n",
              "\n",
              "    .dataframe thead th {\n",
              "        text-align: right;\n",
              "    }\n",
              "</style>\n",
              "<table border=\"1\" class=\"dataframe\">\n",
              "  <thead>\n",
              "    <tr style=\"text-align: right;\">\n",
              "      <th>Predicted</th>\n",
              "      <th>0</th>\n",
              "      <th>1</th>\n",
              "    </tr>\n",
              "    <tr>\n",
              "      <th>Actual</th>\n",
              "      <th></th>\n",
              "      <th></th>\n",
              "    </tr>\n",
              "  </thead>\n",
              "  <tbody>\n",
              "    <tr>\n",
              "      <th>0</th>\n",
              "      <td>10041</td>\n",
              "      <td>22</td>\n",
              "    </tr>\n",
              "    <tr>\n",
              "      <th>1</th>\n",
              "      <td>116</td>\n",
              "      <td>1007</td>\n",
              "    </tr>\n",
              "  </tbody>\n",
              "</table>\n",
              "</div>"
            ],
            "text/plain": [
              "Predicted      0     1\n",
              "Actual                \n",
              "0          10041    22\n",
              "1            116  1007"
            ]
          },
          "metadata": {
            "tags": []
          },
          "execution_count": 24
        }
      ]
    },
    {
      "cell_type": "code",
      "metadata": {
        "id": "O2tJXxEX6od9",
        "colab_type": "code",
        "outputId": "b687ba8c-7366-4161-863c-d6d1b3566d22",
        "colab": {
          "base_uri": "https://localhost:8080/",
          "height": 121
        }
      },
      "source": [
        "# Accuracy score\n",
        "print(\"K NEAREST NEIGHBOR\\n\")\n",
        "\n",
        "print(\"F1-SCORE \",f1(c_test,ck_predict,average='macro'))\n",
        "\n",
        "print(\"ACCURACY \",acc(c_test,ck_predict))\n",
        "\n",
        "print(\"PRECISION \",pr(c_test,ck_predict,average='macro'))\n",
        "\n",
        "print(\"RECALL\",rec(c_test,ck_predict,average='macro'))"
      ],
      "execution_count": 25,
      "outputs": [
        {
          "output_type": "stream",
          "text": [
            "K NEAREST NEIGHBOR\n",
            "\n",
            "F1-SCORE  0.9645243400659658\n",
            "ACCURACY  0.9876631503665296\n",
            "PRECISION  0.9835996621746069\n",
            "RECALL 0.9472595135065827\n"
          ],
          "name": "stdout"
        }
      ]
    }
  ]
}